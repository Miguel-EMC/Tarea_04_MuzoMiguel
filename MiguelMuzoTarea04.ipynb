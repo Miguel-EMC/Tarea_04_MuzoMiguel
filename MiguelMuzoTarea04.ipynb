{
  "nbformat": 4,
  "nbformat_minor": 0,
  "metadata": {
    "colab": {
      "provenance": [],
      "authorship_tag": "ABX9TyMzClTB6Owt9zQaap32FmZO",
      "include_colab_link": true
    },
    "kernelspec": {
      "name": "python3",
      "display_name": "Python 3"
    },
    "language_info": {
      "name": "python"
    }
  },
  "cells": [
    {
      "cell_type": "markdown",
      "metadata": {
        "id": "view-in-github",
        "colab_type": "text"
      },
      "source": [
        "<a href=\"https://colab.research.google.com/github/Miguel-EMC/Tarea_04_MuzoMiguel/blob/main/MiguelMuzoTarea04.ipynb\" target=\"_parent\"><img src=\"https://colab.research.google.com/assets/colab-badge.svg\" alt=\"Open In Colab\"/></a>"
      ]
    },
    {
      "cell_type": "markdown",
      "source": [
        "**CONJUNTO DE EJERCICIOS**"
      ],
      "metadata": {
        "id": "u4Tz9aAr-lrv"
      }
    },
    {
      "cell_type": "markdown",
      "source": [
        "1. Use el método de bisección para encontrar soluciones precisas dentro de 10^(-2) para x^3-x^2+14x-6=0 en cada intervalo.\n",
        "\n",
        "\t[0,1]\n",
        "\t[1,3.2]\n",
        "\t[3.2,4]"
      ],
      "metadata": {
        "id": "PF8Wv87x9TFG"
      }
    },
    {
      "cell_type": "code",
      "source": [
        "def sign(x: float) -> int:\n",
        "    if x > 0:\n",
        "        return 1\n",
        "    elif x < 0:\n",
        "        return -1\n",
        "    else:\n",
        "        return 0"
      ],
      "metadata": {
        "id": "DPjc-zCV6cPo"
      },
      "execution_count": 18,
      "outputs": []
    },
    {
      "cell_type": "code",
      "execution_count": 27,
      "metadata": {
        "id": "otBSX6vf44nt"
      },
      "outputs": [],
      "source": [
        "from typing import Callable, Tuple, Optional\n",
        "\n",
        "def bisection(\n",
        "    a: float, b: float, *, equation: Callable[[float], float], tol: float, N: int\n",
        ") -> Optional[Tuple[float, float, float, int]]:\n",
        "    i = 1\n",
        "\n",
        "    # Input validation\n",
        "    assert a < b, \"a not lower than b, the interval is not valid.\"\n",
        "    assert equation(a) * equation(b) < 0, \"The function does not change sign over the interval.\"\n",
        "\n",
        "    Fa = equation(a)\n",
        "    p = a  # to avoid crash in i == 0.\n",
        "    for i in range(N):\n",
        "        p = a + (b - a) / 2\n",
        "        FP = equation(p)\n",
        "        if FP == 0 or (b - a) / 2 < tol:\n",
        "            return p, a, b, i\n",
        "\n",
        "        if sign(Fa) * sign(FP) > 0:\n",
        "            a = p\n",
        "            Fa = FP\n",
        "        else:\n",
        "            b = p\n",
        "    # Return the best estimate if tolerance not achieved\n",
        "    return p, a, b, i\n"
      ]
    },
    {
      "cell_type": "code",
      "source": [
        "# Define the function\n",
        "def f(x):\n",
        "    return x**3 - 7*x**2 + 14*x - 6"
      ],
      "metadata": {
        "id": "QitR6pVT8c6v"
      },
      "execution_count": 20,
      "outputs": []
    },
    {
      "cell_type": "code",
      "source": [
        "# Define the intervals and tolerance\n",
        "intervals = [(0, 1), (1, 3.2), (3.2, 4)]\n",
        "tolerance = 1e-2\n",
        "max_iterations = 100  # Maximum number of iterations\n",
        "\n",
        "# Apply the bisection method to each interval\n",
        "results = {interval: bisection(interval[0], interval[1], equation=f, tol=tolerance, N=max_iterations) for interval in intervals}\n",
        "results"
      ],
      "metadata": {
        "colab": {
          "base_uri": "https://localhost:8080/"
        },
        "id": "9lS86X8G8goN",
        "outputId": "f4bf9371-b97b-4e35-a2c7-c9704b5d7cc6"
      },
      "execution_count": 21,
      "outputs": [
        {
          "output_type": "execute_result",
          "data": {
            "text/plain": [
              "{(0, 1): (0.5859375, 0.578125, 0.59375, 6),\n",
              " (1, 3.2): (3.0023437500000005, 2.9937500000000004, 3.0109375000000003, 7),\n",
              " (3.2, 4): (3.41875, 3.4125000000000005, 3.4250000000000003, 6)}"
            ]
          },
          "metadata": {},
          "execution_count": 21
        }
      ]
    },
    {
      "cell_type": "markdown",
      "source": [
        "Los resultados de aplicar el método de bisección con la función sign incluida son los siguientes:\n",
        "\n",
        "***Intervalo***\n",
        "[0,1]:\n",
        "\n",
        "Raíz aproximada:\n",
        "𝑥≈0.586\n",
        "\n",
        "Intervalo final: [0.578,0.594]\n",
        "\n",
        "Iteraciones: 6\n",
        "\n",
        "***Intervalo***\n",
        "[1,3.2]:\n",
        "\n",
        "Raíz aproximada:\n",
        "𝑥≈3.002\n",
        "\n",
        "Intervalo final:\n",
        "[2.994,3.011]\n",
        "\n",
        "Iteraciones: 7\n",
        "\n",
        "***Intervalo***\n",
        "[3.2,4]:\n",
        "\n",
        "Raíz aproximada:\n",
        "𝑥≈3.419\n",
        "\n",
        "Intervalo final:\n",
        "[3.413,3.425]\n",
        "\n",
        "Iteraciones: 6\n"
      ],
      "metadata": {
        "id": "dRH-3n6S-vjy"
      }
    },
    {
      "cell_type": "markdown",
      "source": [
        "# **2.**"
      ],
      "metadata": {
        "id": "p7Gdf5dykfWZ"
      }
    },
    {
      "cell_type": "markdown",
      "source": [
        "\n",
        "1. Dibuje las gráficas para y=x y y=sin⁡x."
      ],
      "metadata": {
        "id": "aDmNGNvSkKz6"
      }
    },
    {
      "cell_type": "code",
      "source": [
        "import numpy as np\n",
        "import matplotlib.pyplot as plt\n",
        "x = np.linspace(0, 2 * np.pi, 400)\n",
        "y1 = x\n",
        "y2 = np.sin(x)\n",
        "plt.plot(x, y1, label='y=x')\n",
        "plt.plot(x, y2, label='y=sin(x)')\n",
        "plt.xlabel('x')\n",
        "plt.ylabel('y')\n",
        "plt.title('Gráficas de y=x y y=sin(x)')\n",
        "plt.legend()\n",
        "plt.grid(True)\n",
        "plt.show()\n"
      ],
      "metadata": {
        "colab": {
          "base_uri": "https://localhost:8080/",
          "height": 472
        },
        "id": "Fjs_bkHukeNw",
        "outputId": "929c8d89-f7ed-4365-decf-9b2724136b2e"
      },
      "execution_count": 22,
      "outputs": [
        {
          "output_type": "display_data",
          "data": {
            "text/plain": [
              "<Figure size 640x480 with 1 Axes>"
            ],
            "image/png": "[encoded data removed]"
          },
          "metadata": {}
        }
      ]
    },
    {
      "cell_type": "markdown",
      "source": [
        "2. Use el método de bisección para encontrar soluciones precisas dentro de 10^(-5) para el primer valor positivo de x con x=2 sin ⁡x."
      ],
      "metadata": {
        "id": "NSQL5HtYl2EF"
      }
    },
    {
      "cell_type": "code",
      "source": [
        "def funcion_ecuation(x):\n",
        "    return x - 2 * np.sin(x)\n",
        "# Encontrar la raíz usando el método de bisección en el intervalo [1, 2]\n",
        "root = bisection(1, 2, equation=funcion_ecuation, tol=1e-5, N=1000)\n",
        "print(f\"El primer valor positivo de x con x = 2 sin(x) es aproximadamente: {root[0]:.5f}\")"
      ],
      "metadata": {
        "colab": {
          "base_uri": "https://localhost:8080/"
        },
        "id": "6uGtyOjeoeZC",
        "outputId": "7b3e024e-9082-437a-fd4a-d486e278d081"
      },
      "execution_count": 49,
      "outputs": [
        {
          "output_type": "stream",
          "name": "stdout",
          "text": [
            "El primer valor positivo de x con x = 2 sin(x) es aproximadamente: 1.89550\n"
          ]
        }
      ]
    },
    {
      "cell_type": "markdown",
      "source": [
        "# **3.**"
      ],
      "metadata": {
        "id": "C4FRNrJCmyBm"
      }
    },
    {
      "cell_type": "markdown",
      "source": [
        "1. Dibuje las gráficas para y=x y y=tan⁡x.\n"
      ],
      "metadata": {
        "id": "bh4Bxe-mm4NO"
      }
    },
    {
      "cell_type": "code",
      "source": [
        "x = np.linspace(0, np.pi/2 - 0.1, 400)\n",
        "y1 = x\n",
        "y2 = np.tan(x)\n",
        "\n",
        "plt.plot(x, y1, label='y=x')\n",
        "plt.plot(x, y2, label='y=tan(x)')\n",
        "plt.ylim([0, 10])\n",
        "plt.xlabel('x')\n",
        "plt.ylabel('y')\n",
        "plt.title('Gráficas de y=x y y=tan(x)')\n",
        "plt.legend()\n",
        "plt.grid(True)\n",
        "plt.show()"
      ],
      "metadata": {
        "colab": {
          "base_uri": "https://localhost:8080/",
          "height": 472
        },
        "id": "RMrv_5L1nAGs",
        "outputId": "2c8f4037-f9e0-43cd-aa0a-28d613c20c34"
      },
      "execution_count": 25,
      "outputs": [
        {
          "output_type": "display_data",
          "data": {
            "text/plain": [
              "<Figure size 640x480 with 1 Axes>"
            ],
            "image/png": "[encoded data removed]"
          },
          "metadata": {}
        }
      ]
    },
    {
      "cell_type": "markdown",
      "source": [
        "2. Use el método de bisección para encontrar una aproximación dentro de 10^(-5) para el primer valor positivo de x con x=tan⁡x.\n"
      ],
      "metadata": {
        "id": "cGI6SxdVnAoN"
      }
    },
    {
      "cell_type": "code",
      "source": [
        "\n"
      ],
      "metadata": {
        "id": "WkWpxCn8npy-"
      },
      "execution_count": 49,
      "outputs": []
    },
    {
      "cell_type": "markdown",
      "source": [
        "# **4.**"
      ],
      "metadata": {
        "id": "86NFiJjMpfRL"
      }
    },
    {
      "cell_type": "markdown",
      "source": [
        "1. Dibuje las gráficas para y=x^2-1  y  y=e^(1-x^2 ).\n",
        "\n",
        "\n"
      ],
      "metadata": {
        "id": "BdmMfUq0pg9S"
      }
    },
    {
      "cell_type": "code",
      "source": [
        "def funcion_tan(x):\n",
        "    return x**2 - 1 - np.exp(1 - x**2)\n",
        "\n",
        "# Graficar la función para identificar un intervalo adecuado\n",
        "x = np.linspace(-2, 2, 400)\n",
        "y = funcion_tan(x)\n",
        "\n",
        "plt.plot(x, y, label='y = x^2 - 1 - e^(1 - x^2)')\n",
        "plt.axhline(0, color='black',linewidth=0.5)\n",
        "plt.axvline(0, color='black',linewidth=0.5)\n",
        "plt.grid(color = 'gray', linestyle = '--', linewidth = 0.5)\n",
        "plt.xlabel('x')\n",
        "plt.ylabel('y')\n",
        "plt.title('Gráfica de y = x^2 - 1 - e^(1 - x^2)')\n",
        "plt.legend()\n",
        "plt.show()"
      ],
      "metadata": {
        "colab": {
          "base_uri": "https://localhost:8080/",
          "height": 472
        },
        "id": "0jM4e1aMpj-C",
        "outputId": "15b42eb2-8968-4a02-95a9-07d7c489825e"
      },
      "execution_count": 50,
      "outputs": [
        {
          "output_type": "display_data",
          "data": {
            "text/plain": [
              "<Figure size 640x480 with 1 Axes>"
            ],
            "image/png": "[encoded data removed]"
          },
          "metadata": {}
        }
      ]
    },
    {
      "cell_type": "markdown",
      "source": [
        "2. Use el método de bisección para encontrar una aproximación dentro de 10^(-3) para un valor en [-2,0] con x^2-1=e^(1-x^2 )."
      ],
      "metadata": {
        "id": "MHYZS-Y7poTS"
      }
    },
    {
      "cell_type": "code",
      "source": [
        "root4 = bisection(-2, 0, equation=funcion_tan, tol=1e-3, N=1000)\n",
        "print(f\"El valor de x en el intervalo [-2, 0] con x^2 - 1 = e^(1 - x^2) es aproximadamente: {root4[0]:.3f}\")"
      ],
      "metadata": {
        "colab": {
          "base_uri": "https://localhost:8080/"
        },
        "id": "za4osmjQpo7y",
        "outputId": "2a86ecac-f8cf-41a7-947c-25295ec5bbc3"
      },
      "execution_count": 52,
      "outputs": [
        {
          "output_type": "stream",
          "name": "stdout",
          "text": [
            "El valor de x en el intervalo [-2, 0] con x^2 - 1 = e^(1 - x^2) es aproximadamente: -1.251\n"
          ]
        }
      ]
    },
    {
      "cell_type": "markdown",
      "source": [
        "# **5. Sea f(x)=(x+3) (x+1)^2 x(x-3). ¿En qué cero de f converge el método de bisección se aplica en los siguientes intervalos?**"
      ],
      "metadata": {
        "id": "cs5Fuxg7qsCy"
      }
    },
    {
      "cell_type": "code",
      "source": [
        "def sign(x):\n",
        "    return (x > 0) - (x < 0)"
      ],
      "metadata": {
        "id": "SVcaDgZxq0e6"
      },
      "execution_count": 54,
      "outputs": []
    },
    {
      "cell_type": "code",
      "source": [
        "def f5(x):\n",
        "    return (x + 3) * (x + 1)**2 * x * (x - 1)**3 * (x - 3)\n",
        "\n",
        "intervals = [(-1.5, 2.5), (-0.5, 2.4), (-0.5, 3), (-3, -0.5)]\n",
        "\n",
        "valid_intervals = []\n",
        "for a, b in intervals:\n",
        "    if f5(a) * f5(b) < 0:\n",
        "        valid_intervals.append((a, b))\n",
        "    else:\n",
        "        print(f\"Intervalo [{a}, {b}]: La función no cambia de signo en el intervalo. f({a}) = {f5(a)}, f({b}) = {f5(b)}\")\n",
        "\n",
        "print(\"Intervalos válidos:\", valid_intervals)\n",
        "\n",
        "def bisection(\n",
        "    a: float, b: float, *, equation: Callable[[float], float], tol: float, N: int\n",
        ") -> Optional[Tuple[float, float, float, int]]:\n",
        "    i = 1\n",
        "\n",
        "    # Input validation\n",
        "    assert a < b, \"a not lower than b, the interval is not valid.\"\n",
        "    assert equation(a) * equation(b) < 0, \"The function does not change sign over the interval.\"\n",
        "\n",
        "    Fa = equation(a)\n",
        "    p = a  # to avoid crash in i == 0.\n",
        "    for i in range(N):\n",
        "        p = a + (b - a) / 2\n",
        "        FP = equation(p)\n",
        "        if FP == 0 or (b - a) / 2 < tol:\n",
        "            return p, a, b, i\n",
        "\n",
        "        if sign(Fa) * sign(FP) > 0:\n",
        "            a = p\n",
        "            Fa = FP\n",
        "        else:\n",
        "            b = p\n",
        "    # Return the best estimate if tolerance not achieved\n",
        "    return p, a, b, i\n",
        "\n",
        "# Aplicar el método de bisección a los intervalos válidos\n",
        "solutions = [bisection(a, b, equation=f5, tol=1e-5, N=1000) for a, b in valid_intervals]\n",
        "\n",
        "for i, (a, b) in enumerate(valid_intervals):\n",
        "    p, a_final, b_final, iterations = solutions[i]\n",
        "    print(f\"Intervalo [{a}, {b}]: converge en x ≈ {p:.5f} después de {iterations} iteraciones\")\n"
      ],
      "metadata": {
        "colab": {
          "base_uri": "https://localhost:8080/"
        },
        "id": "27KsSHjFrT6J",
        "outputId": "057b3a9d-94a9-453f-974a-e5b4e8e582e0"
      },
      "execution_count": 55,
      "outputs": [
        {
          "output_type": "stream",
          "name": "stdout",
          "text": [
            "Intervalo [-1.5, 2.5]: La función no cambia de signo en el intervalo. f(-1.5) = -39.55078125, f(2.5) = -284.23828125\n",
            "Intervalo [-0.5, 2.4]: La función no cambia de signo en el intervalo. f(-0.5) = -3.69140625, f(2.4) = -246.65969664\n",
            "Intervalo [-0.5, 3]: La función no cambia de signo en el intervalo. f(-0.5) = -3.69140625, f(3) = 0\n",
            "Intervalo [-3, -0.5]: La función no cambia de signo en el intervalo. f(-3) = 0, f(-0.5) = -3.69140625\n",
            "Intervalos válidos: []\n"
          ]
        }
      ]
    },
    {
      "cell_type": "markdown",
      "source": [
        "# **EJERCICIOS APLICADOS**"
      ],
      "metadata": {
        "id": "haqvRyLxzZpu"
      }
    },
    {
      "cell_type": "markdown",
      "source": [
        "1. Un abrevadero de longitud L tiene una sección transversal en forma de semicírculo con radio r. (Consulte la figura adjunta.) Cuando se llena con agua hasta una distancia h a partir de la parte superior, el volumen V de agua es\n",
        "\n",
        "        V=L[0.5πr^2-r^2 arcsen(h/r)-h(r^2-h^2 )^(1/2)]\n",
        "Suponga que L=10cm, r=1cm y V=12.4cm^3. Encuentre la profundidad del agua en el abrevadero dentro de 0.01cm."
      ],
      "metadata": {
        "id": "JobppVsqzcX1"
      }
    },
    {
      "cell_type": "code",
      "source": [
        "import math\n",
        "\n",
        "# Función para f(h)\n",
        "def f(h):\n",
        "    return 0.5 * math.pi - math.asin(h) - h * math.sqrt(1 - h**2) - 1.24\n",
        "\n",
        "# Derivada de f(h)\n",
        "def f_prime(h):\n",
        "    return -1 / math.sqrt(1 - h**2) - math.sqrt(1 - h**2) - h**2 / math.sqrt(1 - h**2)\n",
        "\n",
        "# Método de Newton-Raphson\n",
        "def newton_raphson(h0, tol=1e-5, max_iter=100):\n",
        "    h = h0\n",
        "    for i in range(max_iter):\n",
        "        h_new = h - f(h) / f_prime(h)\n",
        "        if abs(h_new - h) < tol:\n",
        "            return h_new\n",
        "        h = h_new\n",
        "    raise ValueError(\"No se encontró solución\")\n",
        "\n",
        "# Valor inicial de h\n",
        "h0 = 0.5\n",
        "\n",
        "# Encontrar la profundidad h\n",
        "h_solution = newton_raphson(h0)\n",
        "print(f\"La profundidad del agua es aproximadamente: {h_solution:.4f} cm\")"
      ],
      "metadata": {
        "colab": {
          "base_uri": "https://localhost:8080/"
        },
        "id": "zMvavBxGON-l",
        "outputId": "dab13a65-b109-4a75-b4a7-d33500163c0e"
      },
      "execution_count": 11,
      "outputs": [
        {
          "output_type": "stream",
          "name": "stdout",
          "text": [
            "La profundidad del agua es aproximadamente: 0.1662 cm\n"
          ]
        }
      ]
    },
    {
      "cell_type": "markdown",
      "source": [
        "2. Un objeto que cae verticalmente a través del aire está sujeto a una resistencia viscosa, así como a la fuerza de gravedad. Suponga que un objeto con masa 𝑚 cae desde una altura 𝑠􀬴 y que la altura del objeto después de 𝑡 segundos es\n",
        "\n",
        "    s(t)=s_0-mg/k t+(m^2 g)/k^2 (1-e^(-kt/m))\n",
        "\n",
        "Donde g=9.81 m/s^2 y k representa el coeficiente de la resistencia del aire en Ns/m. Suponga s_0=300m,m=0.25 kg y k=0.1 Ns/m. Encuentre, dentro de 0.01 segundos, el tiempo que tarda un cuarto de Kg en golpear el piso."
      ],
      "metadata": {
        "id": "4yMcE7d0zywc"
      }
    },
    {
      "cell_type": "code",
      "source": [
        "import math\n",
        "# Datos del problema\n",
        "g = 9.81\n",
        "m = 0.25\n",
        "k = 0.1\n",
        "s0 = 300\n",
        "\n",
        "# Función para calcular la altura\n",
        "def altura(t):\n",
        "    return s0 - (m * g / k) * t + (m ** 2 * g / k ** 2) * (1 - math.exp(-k * t / m))\n",
        "\n",
        "# Intervalos\n",
        "t_inicio = 0\n",
        "t_fin = 100\n",
        "\n",
        "while (t_fin - t_inicio) > 0.01:\n",
        "    t_medio = (t_inicio + t_fin) / 2\n",
        "    altura_a_t_medio = altura(t_medio)\n",
        "\n",
        "    # Verificación si el objeto ha llegado al piso\n",
        "    if abs(altura_a_t_medio) < 0.01:\n",
        "        tiempo_caida = t_medio\n",
        "        break\n",
        "    elif altura_a_t_medio > 0:\n",
        "        # Objeto aun no llega al piso\n",
        "        t_inicio = t_medio\n",
        "    else:\n",
        "        # Objeto ya llego al piso\n",
        "        t_fin = t_medio\n",
        "else:\n",
        "    tiempo_caida = (t_inicio + t_fin) / 2\n",
        "\n",
        "# Resultado\n",
        "print(f\"El tiempo que tarda en caer es: {tiempo_caida:.2f} segundos\")"
      ],
      "metadata": {
        "colab": {
          "base_uri": "https://localhost:8080/"
        },
        "id": "9rcjXLJXA8_a",
        "outputId": "1ba7719d-4027-43ac-d52e-626f86739f4b"
      },
      "execution_count": null,
      "outputs": [
        {
          "output_type": "stream",
          "name": "stdout",
          "text": [
            "El tiempo que tarda en caer es: 14.72 segundos\n"
          ]
        }
      ]
    },
    {
      "cell_type": "markdown",
      "source": [
        "# ***EJERCICIOS TEÓRICOS***"
      ],
      "metadata": {
        "id": "gYS-3UqWz_Db"
      }
    },
    {
      "cell_type": "markdown",
      "source": [
        "Use el teorema 2.1 para encontrar una cota para el número de iteraciones necesarias para lograr una aproximación con precisión de 10^(-4) para la solución de x^3-x-1=0 que se encuentran dentro del intervalo [1,2]. Encuentre una aproximación para la raíz con este grado de precisión."
      ],
      "metadata": {
        "id": "BlpBtpzK0Aub"
      }
    },
    {
      "cell_type": "code",
      "source": [
        "def f(x):\n",
        "    return x**3 - x - 1\n",
        "\n",
        "def metodo_biseccion(a, b, tol, max_iteraciones):\n",
        "    for i in range(1, max_iteraciones + 1):\n",
        "        c = (a + b) / 2\n",
        "        if abs(f(c)) < tol:\n",
        "            return c, i\n",
        "        if f(a) * f(c) < 0:\n",
        "            b = c\n",
        "        else:\n",
        "            a = c\n",
        "    return (a + b) / 2, max_iteraciones\n",
        "\n",
        "# Definir los parámetros\n",
        "a = 1\n",
        "b = 2\n",
        "tol = 1e-4\n",
        "max_iteraciones = 100\n",
        "\n",
        "# Llamamos a la función de método de bisección\n",
        "raiz, iteraciones = metodo_biseccion(a, b, tol, max_iteraciones)\n",
        "\n",
        "# Mostrar el resultado\n",
        "print(\"Aproximación de la raíz:\", raiz)\n",
        "print(\"Número de iteraciones:\", iteraciones)\n"
      ],
      "metadata": {
        "colab": {
          "base_uri": "https://localhost:8080/"
        },
        "id": "Ct4WfPPlL8sx",
        "outputId": "9f8c562b-17a7-4364-ac5f-caf68b85ca0b"
      },
      "execution_count": null,
      "outputs": [
        {
          "output_type": "stream",
          "name": "stdout",
          "text": [
            "Aproximación de la raíz: 1.32470703125\n",
            "Número de iteraciones: 11\n"
          ]
        }
      ]
    },
    {
      "cell_type": "markdown",
      "source": [
        "La función por f(x)=sin⁡πx tiene ceros en cada entero. Muestre cuando -1<a<0 y 2<b<3, el método de bisección converge a\n",
        "\n",
        "\t0, si a+b<2\n",
        "\t2, si a+b>2\n",
        "\t1, si si a+b=2\n"
      ],
      "metadata": {
        "id": "6dNcdk960K_8"
      }
    },
    {
      "cell_type": "code",
      "source": [
        "import math\n",
        "\n",
        "def f(x):\n",
        "    return math.sin(math.pi * x)\n",
        "\n",
        "def biseccion(a, b, tolerancia=1e-6):\n",
        "    if f(a) * f(b) > 0:\n",
        "        print(\"La función no tiene raíces en el intervalo dado.\")\n",
        "        return None\n",
        "\n",
        "    while abs(b - a) > tolerancia:\n",
        "        punto_medio = (a + b) / 2\n",
        "        if f(punto_medio) == 0:\n",
        "            return punto_medio\n",
        "        elif f(a) * f(punto_medio) < 0:\n",
        "            b = punto_medio\n",
        "        else:\n",
        "            a = punto_medio\n",
        "    return (a + b) / 2\n",
        "\n",
        "# a + b = 2\n",
        "a = 0.5\n",
        "b = 1.5\n",
        "solucion = biseccion(a, b)\n",
        "print(f\"La raíz de la función es: {solucion}\")\n"
      ],
      "metadata": {
        "id": "otKosZAoMTrZ",
        "outputId": "aa58169d-0373-42d4-80bd-52df5e914754",
        "colab": {
          "base_uri": "https://localhost:8080/"
        }
      },
      "execution_count": null,
      "outputs": [
        {
          "output_type": "stream",
          "name": "stdout",
          "text": [
            "La raíz de la función es: 1.0000004768371582\n"
          ]
        }
      ]
    }
  ]
}